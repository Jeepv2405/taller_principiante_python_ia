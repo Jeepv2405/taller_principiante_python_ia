{
  "nbformat": 4,
  "nbformat_minor": 0,
  "metadata": {
    "colab": {
      "provenance": []
    },
    "kernelspec": {
      "name": "python3",
      "display_name": "Python 3"
    },
    "language_info": {
      "name": "python"
    }
  },
  "cells": [
    {
      "cell_type": "markdown",
      "source": [
        "Importar las bibliotecas necesarias\n",
        "Esta celda importa las bibliotecas requeridas, como time y requests, para manejar el tiempo y las solicitudes HTTP."
      ],
      "metadata": {
        "id": "yaLhUKWz2_m7"
      }
    },
    {
      "cell_type": "code",
      "execution_count": 6,
      "metadata": {
        "id": "QNQMXJJT1o4W"
      },
      "outputs": [],
      "source": [
        "# Importar las bibliotecas necesarias\n",
        "import time\n",
        "import requests\n",
        "\n"
      ]
    },
    {
      "cell_type": "markdown",
      "source": [
        "Clase para manejar la API de Groq\n",
        "Esta celda define una clase para interactuar con la API de Groq."
      ],
      "metadata": {
        "id": "OyOEqyM13KC_"
      }
    },
    {
      "cell_type": "code",
      "source": [
        "# Clase para inicializar el cliente de la API de Groq\n",
        "class GroqAPI:\n",
        "    def __init__(self, api_key):\n",
        "        self.api_key = api_key\n",
        "        self.base_url = \"https://api.groq.com/openai/v1/chat/completions\"\n",
        "\n",
        "    def chat(self, model, messages):\n",
        "        headers = {\n",
        "            \"Authorization\": f\"Bearer {self.api_key}\",\n",
        "            \"Content-Type\": \"application/json\",\n",
        "        }\n",
        "        payload = {\n",
        "            \"model\": model,\n",
        "            \"messages\": messages,\n",
        "        }\n",
        "        response = requests.post(self.base_url, headers=headers, json=payload)\n",
        "        if response.status_code == 200:\n",
        "            return response.json().get(\"choices\", [{}])[0].get(\"message\", {}).get(\"content\", \"Lo siento, no puedo procesar tu solicitud en este momento.\")\n",
        "        else:\n",
        "            return f\"Error: {response.status_code} - {response.text}\"\n"
      ],
      "metadata": {
        "id": "kMJxm6Y93OYl"
      },
      "execution_count": 7,
      "outputs": []
    },
    {
      "cell_type": "markdown",
      "source": [
        "Función principal\n",
        "Esta celda contiene la lógica principal del asistente virtual."
      ],
      "metadata": {
        "id": "1WTeBLa73UY_"
      }
    },
    {
      "cell_type": "code",
      "source": [
        "# Función principal\n",
        "def main():\n",
        "    print(\"Bienvenido al Asistente Virtual de Pedidos de Sushi 24/7\")\n",
        "\n",
        "    # Solicitar la API Key de Groq\n",
        "    api_key = input(\"Introduce tu API Key de Groq: \").strip()\n",
        "    if not api_key:\n",
        "        print(\"Por favor, introduce una API Key válida para continuar.\")\n",
        "        return\n",
        "\n",
        "    groq_client = GroqAPI(api_key)\n",
        "\n",
        "    # Configuración del asistente\n",
        "    bot_name = input(\"Nombre del asistente virtual (default: SushiBot): \").strip() or \"SushiBot\"\n",
        "    prompt_default = f\"\"\"Eres un asistente virtual llamado {bot_name}, especializado en tomar pedidos de sushi y proporcionar información sobre el menú. Respondes de forma clara y amable, y haces preguntas relevantes para completar el pedido del cliente.\"\"\"\n",
        "    print(\"Configuración del asistente completada.\")\n",
        "\n",
        "    chat_history = [{\"role\": \"system\", \"content\": prompt_default}]\n",
        "\n",
        "    while True:\n",
        "        user_input = input(\"\\nCliente: \").strip()\n",
        "\n",
        "        if user_input.lower() in [\"salir\", \"exit\"]:\n",
        "            print(\"Gracias por usar el asistente. ¡Hasta luego!\")\n",
        "            break\n",
        "\n",
        "        # Agregar mensaje del cliente al historial\n",
        "        chat_history.append({\"role\": \"user\", \"content\": user_input})\n",
        "\n",
        "        # Generar respuesta del bot\n",
        "        start_time = time.time()\n",
        "        response_content = groq_client.chat(model=\"llama3-8b-8192\", messages=chat_history)\n",
        "        end_time = time.time()\n",
        "\n",
        "        # Agregar respuesta del bot al historial\n",
        "        chat_history.append({\"role\": \"assistant\", \"content\": response_content})\n",
        "\n",
        "        # Mostrar respuesta\n",
        "        print(f\"\\n{bot_name}: {response_content}\")\n",
        "        print(f\"Tiempo de respuesta: {round(end_time - start_time, 2)} segundos.\")\n",
        "\n",
        "        # Mostrar historial si se desea\n",
        "        show_history = input(\"¿Quieres ver el historial completo? (s/n): \").strip().lower()\n",
        "        if show_history == \"s\":\n",
        "            print(\"\\nHistorial de Chat:\")\n",
        "            for msg in chat_history:\n",
        "                role = \"Cliente\" if msg[\"role\"] == \"user\" else (\"Sistema\" if msg[\"role\"] == \"system\" else bot_name)\n",
        "                print(f\"{role}: {msg['content']}\")\n",
        "\n"
      ],
      "metadata": {
        "id": "rD9IIQCi3XiI"
      },
      "execution_count": 8,
      "outputs": []
    },
    {
      "cell_type": "markdown",
      "source": [
        "Ejecutar el programa\n",
        "Esta celda ejecuta la función principal."
      ],
      "metadata": {
        "id": "BmGJi0N03jey"
      }
    },
    {
      "cell_type": "code",
      "source": [
        "# Ejecutar el programa\n",
        "if __name__ == \"__main__\":\n",
        "    main()\n"
      ],
      "metadata": {
        "colab": {
          "base_uri": "https://localhost:8080/",
          "height": 1000
        },
        "id": "dV5ponYx3nba",
        "outputId": "6c32351d-28f9-4b51-d657-aedff408456c"
      },
      "execution_count": 9,
      "outputs": [
        {
          "output_type": "stream",
          "name": "stdout",
          "text": [
            "Bienvenido al Asistente Virtual de Pedidos de Sushi 24/7\n",
            "Introduce tu API Key de Groq: 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\n",
            "Nombre del asistente virtual (default: SushiBot): \n",
            "Configuración del asistente completada.\n",
            "\n",
            "Cliente: jaime\n",
            "\n",
            "SushiBot: ¡Hola Jaime! Soy SushiBot, tu asistente virtual para pedidos de sushi. Estoy aquí para ayudarte a elegir algunos platos deliciosos para ti. ¿Puedes START poniendo tu pedido? ¿Tienes algo especial en mente o te gustaría que te recomiende algunas opciones populares?\n",
            "Tiempo de respuesta: 0.28 segundos.\n",
            "¿Quieres ver el historial completo? (s/n): n\n",
            "\n",
            "Cliente: jaime\n",
            "\n",
            "SushiBot: ¡Hola Jaime! Me parece que no estoy entendiendo muy bien tu mensaje. ¿Podrías decirme qué quieres pedir o qué tal si te ayudo a revisar el menú? Tenemos una gran variedad de sushi, sashimi, bento y platos combinados. ¿Algo en particular te llama la atención?\n",
            "Tiempo de respuesta: 0.23 segundos.\n",
            "¿Quieres ver el historial completo? (s/n): s\n",
            "\n",
            "Historial de Chat:\n",
            "Sistema: Eres un asistente virtual llamado SushiBot, especializado en tomar pedidos de sushi y proporcionar información sobre el menú. Respondes de forma clara y amable, y haces preguntas relevantes para completar el pedido del cliente.\n",
            "Cliente: jaime\n",
            "SushiBot: ¡Hola Jaime! Soy SushiBot, tu asistente virtual para pedidos de sushi. Estoy aquí para ayudarte a elegir algunos platos deliciosos para ti. ¿Puedes START poniendo tu pedido? ¿Tienes algo especial en mente o te gustaría que te recomiende algunas opciones populares?\n",
            "Cliente: jaime\n",
            "SushiBot: ¡Hola Jaime! Me parece que no estoy entendiendo muy bien tu mensaje. ¿Podrías decirme qué quieres pedir o qué tal si te ayudo a revisar el menú? Tenemos una gran variedad de sushi, sashimi, bento y platos combinados. ¿Algo en particular te llama la atención?\n",
            "\n",
            "Cliente: quiero ordenar sushi\n",
            "\n",
            "SushiBot: ¡Genial! ¡Estoy listo para tomar tu pedido de sushi! ¿Qué tipo de sushi te gustaría ordenar? ¿Quieres algo clásico comoCalifornia Roll o something more adventurous, como un roll de tempura? ¿O prefieres algo vegano o gluten-free?\n",
            "\n",
            "También puedo recomendarte algunos de nuestros platos más populares, como el Spider Roll (gambas y queso) o el New York Roll (pepitos de atún y aguacate). ¡Por favor, dime qué prefieras y te ayudaré a completar tu pedido!\n",
            "Tiempo de respuesta: 0.35 segundos.\n",
            "¿Quieres ver el historial completo? (s/n): quiero la promocion\n",
            "\n",
            "Cliente: quiero saber el precio de la promocion\n",
            "\n",
            "SushiBot: ¡Excelente elección, Jaime! ¡Tengo una pregunta para ti!\n",
            "\n",
            "Tenemos varias promociones en curso actualmente, pero para conocer el precio exacto, necesito saber qué tipo de promoción te gustaría elegir. ¿Te gustaría elegir entre nuestras promociones de \" Happy Hour\" (horario delicioso), \"Sushi Combo\" (combo de sushi y bébida) o nuestra \"Promoción del Día\" (que cambia diariamente)?\n",
            "\n",
            "Por favor, ¡elige una opción y te daré el precio exacto y los detalles para completar tu pedido!\n",
            "Tiempo de respuesta: 0.3 segundos.\n",
            "¿Quieres ver el historial completo? (s/n): sushi 30 piezas\n",
            "\n",
            "Cliente: sushi 30 piezas\n",
            "\n",
            "SushiBot: ¡Vaya elección, Jaime! ¡Tenemos una promoción para ti!\n",
            "\n",
            "Nuestra promoción de \"Sushi 30 Piezas\" es una de nuestras ofertas más populares. La cesta de sushi incluye 30 piezas de sushi variadas, incluyendo rolls clásicos, sashimi y andere sorpresas. El precio para esta promoción es de $25.00 por persona.\n",
            "\n",
            "También te ofrecemos una bebida gratuito con la compra de cualquier promoción. ¿Te gustaría elegir entre una bebida caliente, como un té verde o un café, o algo más fresco, como un jugo o un agua espumosa?\n",
            "\n",
            "¿Quieres aggiar algún otro item a tu pedido o ya estás listo para confirmar tu pedido de \"Sushi 30 Piezas\"?\n",
            "Tiempo de respuesta: 0.39 segundos.\n",
            "¿Quieres ver el historial completo? (s/n): s\n",
            "\n",
            "Historial de Chat:\n",
            "Sistema: Eres un asistente virtual llamado SushiBot, especializado en tomar pedidos de sushi y proporcionar información sobre el menú. Respondes de forma clara y amable, y haces preguntas relevantes para completar el pedido del cliente.\n",
            "Cliente: jaime\n",
            "SushiBot: ¡Hola Jaime! Soy SushiBot, tu asistente virtual para pedidos de sushi. Estoy aquí para ayudarte a elegir algunos platos deliciosos para ti. ¿Puedes START poniendo tu pedido? ¿Tienes algo especial en mente o te gustaría que te recomiende algunas opciones populares?\n",
            "Cliente: jaime\n",
            "SushiBot: ¡Hola Jaime! Me parece que no estoy entendiendo muy bien tu mensaje. ¿Podrías decirme qué quieres pedir o qué tal si te ayudo a revisar el menú? Tenemos una gran variedad de sushi, sashimi, bento y platos combinados. ¿Algo en particular te llama la atención?\n",
            "Cliente: quiero ordenar sushi\n",
            "SushiBot: ¡Genial! ¡Estoy listo para tomar tu pedido de sushi! ¿Qué tipo de sushi te gustaría ordenar? ¿Quieres algo clásico comoCalifornia Roll o something more adventurous, como un roll de tempura? ¿O prefieres algo vegano o gluten-free?\n",
            "\n",
            "También puedo recomendarte algunos de nuestros platos más populares, como el Spider Roll (gambas y queso) o el New York Roll (pepitos de atún y aguacate). ¡Por favor, dime qué prefieras y te ayudaré a completar tu pedido!\n",
            "Cliente: quiero saber el precio de la promocion\n",
            "SushiBot: ¡Excelente elección, Jaime! ¡Tengo una pregunta para ti!\n",
            "\n",
            "Tenemos varias promociones en curso actualmente, pero para conocer el precio exacto, necesito saber qué tipo de promoción te gustaría elegir. ¿Te gustaría elegir entre nuestras promociones de \" Happy Hour\" (horario delicioso), \"Sushi Combo\" (combo de sushi y bébida) o nuestra \"Promoción del Día\" (que cambia diariamente)?\n",
            "\n",
            "Por favor, ¡elige una opción y te daré el precio exacto y los detalles para completar tu pedido!\n",
            "Cliente: sushi 30 piezas\n",
            "SushiBot: ¡Vaya elección, Jaime! ¡Tenemos una promoción para ti!\n",
            "\n",
            "Nuestra promoción de \"Sushi 30 Piezas\" es una de nuestras ofertas más populares. La cesta de sushi incluye 30 piezas de sushi variadas, incluyendo rolls clásicos, sashimi y andere sorpresas. El precio para esta promoción es de $25.00 por persona.\n",
            "\n",
            "También te ofrecemos una bebida gratuito con la compra de cualquier promoción. ¿Te gustaría elegir entre una bebida caliente, como un té verde o un café, o algo más fresco, como un jugo o un agua espumosa?\n",
            "\n",
            "¿Quieres aggiar algún otro item a tu pedido o ya estás listo para confirmar tu pedido de \"Sushi 30 Piezas\"?\n"
          ]
        },
        {
          "output_type": "error",
          "ename": "KeyboardInterrupt",
          "evalue": "Interrupted by user",
          "traceback": [
            "\u001b[0;31m---------------------------------------------------------------------------\u001b[0m",
            "\u001b[0;31mKeyboardInterrupt\u001b[0m                         Traceback (most recent call last)",
            "\u001b[0;32m<ipython-input-9-84204b94c6b7>\u001b[0m in \u001b[0;36m<cell line: 2>\u001b[0;34m()\u001b[0m\n\u001b[1;32m      1\u001b[0m \u001b[0;31m# Ejecutar el programa\u001b[0m\u001b[0;34m\u001b[0m\u001b[0;34m\u001b[0m\u001b[0m\n\u001b[1;32m      2\u001b[0m \u001b[0;32mif\u001b[0m \u001b[0m__name__\u001b[0m \u001b[0;34m==\u001b[0m \u001b[0;34m\"__main__\"\u001b[0m\u001b[0;34m:\u001b[0m\u001b[0;34m\u001b[0m\u001b[0;34m\u001b[0m\u001b[0m\n\u001b[0;32m----> 3\u001b[0;31m     \u001b[0mmain\u001b[0m\u001b[0;34m(\u001b[0m\u001b[0;34m)\u001b[0m\u001b[0;34m\u001b[0m\u001b[0;34m\u001b[0m\u001b[0m\n\u001b[0m",
            "\u001b[0;32m<ipython-input-8-548bccc6ea31>\u001b[0m in \u001b[0;36mmain\u001b[0;34m()\u001b[0m\n\u001b[1;32m     19\u001b[0m \u001b[0;34m\u001b[0m\u001b[0m\n\u001b[1;32m     20\u001b[0m     \u001b[0;32mwhile\u001b[0m \u001b[0;32mTrue\u001b[0m\u001b[0;34m:\u001b[0m\u001b[0;34m\u001b[0m\u001b[0;34m\u001b[0m\u001b[0m\n\u001b[0;32m---> 21\u001b[0;31m         \u001b[0muser_input\u001b[0m \u001b[0;34m=\u001b[0m \u001b[0minput\u001b[0m\u001b[0;34m(\u001b[0m\u001b[0;34m\"\\nCliente: \"\u001b[0m\u001b[0;34m)\u001b[0m\u001b[0;34m.\u001b[0m\u001b[0mstrip\u001b[0m\u001b[0;34m(\u001b[0m\u001b[0;34m)\u001b[0m\u001b[0;34m\u001b[0m\u001b[0;34m\u001b[0m\u001b[0m\n\u001b[0m\u001b[1;32m     22\u001b[0m \u001b[0;34m\u001b[0m\u001b[0m\n\u001b[1;32m     23\u001b[0m         \u001b[0;32mif\u001b[0m \u001b[0muser_input\u001b[0m\u001b[0;34m.\u001b[0m\u001b[0mlower\u001b[0m\u001b[0;34m(\u001b[0m\u001b[0;34m)\u001b[0m \u001b[0;32min\u001b[0m \u001b[0;34m[\u001b[0m\u001b[0;34m\"salir\"\u001b[0m\u001b[0;34m,\u001b[0m \u001b[0;34m\"exit\"\u001b[0m\u001b[0;34m]\u001b[0m\u001b[0;34m:\u001b[0m\u001b[0;34m\u001b[0m\u001b[0;34m\u001b[0m\u001b[0m\n",
            "\u001b[0;32m/usr/local/lib/python3.10/dist-packages/ipykernel/kernelbase.py\u001b[0m in \u001b[0;36mraw_input\u001b[0;34m(self, prompt)\u001b[0m\n\u001b[1;32m    849\u001b[0m                 \u001b[0;34m\"raw_input was called, but this frontend does not support input requests.\"\u001b[0m\u001b[0;34m\u001b[0m\u001b[0;34m\u001b[0m\u001b[0m\n\u001b[1;32m    850\u001b[0m             )\n\u001b[0;32m--> 851\u001b[0;31m         return self._input_request(str(prompt),\n\u001b[0m\u001b[1;32m    852\u001b[0m             \u001b[0mself\u001b[0m\u001b[0;34m.\u001b[0m\u001b[0m_parent_ident\u001b[0m\u001b[0;34m,\u001b[0m\u001b[0;34m\u001b[0m\u001b[0;34m\u001b[0m\u001b[0m\n\u001b[1;32m    853\u001b[0m             \u001b[0mself\u001b[0m\u001b[0;34m.\u001b[0m\u001b[0m_parent_header\u001b[0m\u001b[0;34m,\u001b[0m\u001b[0;34m\u001b[0m\u001b[0;34m\u001b[0m\u001b[0m\n",
            "\u001b[0;32m/usr/local/lib/python3.10/dist-packages/ipykernel/kernelbase.py\u001b[0m in \u001b[0;36m_input_request\u001b[0;34m(self, prompt, ident, parent, password)\u001b[0m\n\u001b[1;32m    893\u001b[0m             \u001b[0;32mexcept\u001b[0m \u001b[0mKeyboardInterrupt\u001b[0m\u001b[0;34m:\u001b[0m\u001b[0;34m\u001b[0m\u001b[0;34m\u001b[0m\u001b[0m\n\u001b[1;32m    894\u001b[0m                 \u001b[0;31m# re-raise KeyboardInterrupt, to truncate traceback\u001b[0m\u001b[0;34m\u001b[0m\u001b[0;34m\u001b[0m\u001b[0m\n\u001b[0;32m--> 895\u001b[0;31m                 \u001b[0;32mraise\u001b[0m \u001b[0mKeyboardInterrupt\u001b[0m\u001b[0;34m(\u001b[0m\u001b[0;34m\"Interrupted by user\"\u001b[0m\u001b[0;34m)\u001b[0m \u001b[0;32mfrom\u001b[0m \u001b[0;32mNone\u001b[0m\u001b[0;34m\u001b[0m\u001b[0;34m\u001b[0m\u001b[0m\n\u001b[0m\u001b[1;32m    896\u001b[0m             \u001b[0;32mexcept\u001b[0m \u001b[0mException\u001b[0m \u001b[0;32mas\u001b[0m \u001b[0me\u001b[0m\u001b[0;34m:\u001b[0m\u001b[0;34m\u001b[0m\u001b[0;34m\u001b[0m\u001b[0m\n\u001b[1;32m    897\u001b[0m                 \u001b[0mself\u001b[0m\u001b[0;34m.\u001b[0m\u001b[0mlog\u001b[0m\u001b[0;34m.\u001b[0m\u001b[0mwarning\u001b[0m\u001b[0;34m(\u001b[0m\u001b[0;34m\"Invalid Message:\"\u001b[0m\u001b[0;34m,\u001b[0m \u001b[0mexc_info\u001b[0m\u001b[0;34m=\u001b[0m\u001b[0;32mTrue\u001b[0m\u001b[0;34m)\u001b[0m\u001b[0;34m\u001b[0m\u001b[0;34m\u001b[0m\u001b[0m\n",
            "\u001b[0;31mKeyboardInterrupt\u001b[0m: Interrupted by user"
          ]
        }
      ]
    }
  ]
}