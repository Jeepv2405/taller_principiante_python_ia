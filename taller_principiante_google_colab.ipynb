{
  "nbformat": 4,
  "nbformat_minor": 0,
  "metadata": {
    "colab": {
      "provenance": []
    },
    "kernelspec": {
      "name": "python3",
      "display_name": "Python 3"
    },
    "language_info": {
      "name": "python"
    }
  },
  "cells": [
    {
      "cell_type": "markdown",
      "source": [
        "Importar las bibliotecas necesarias\n",
        "Esta celda importa las bibliotecas requeridas, como time y requests, para manejar el tiempo y las solicitudes HTTP."
      ],
      "metadata": {
        "id": "yaLhUKWz2_m7"
      }
    },
    {
      "cell_type": "code",
      "execution_count": null,
      "metadata": {
        "id": "QNQMXJJT1o4W"
      },
      "outputs": [],
      "source": [
        "# Importar las bibliotecas necesarias\n",
        "import time\n",
        "import requests\n"
      ]
    },
    {
      "cell_type": "markdown",
      "source": [
        "Clase para manejar la API de Groq\n",
        "Esta celda define una clase para interactuar con la API de Groq."
      ],
      "metadata": {
        "id": "OyOEqyM13KC_"
      }
    },
    {
      "cell_type": "code",
      "source": [
        "# Clase para inicializar el cliente de la API de Groq\n",
        "class GroqAPI:\n",
        "    def __init__(self, api_key):\n",
        "        self.api_key = api_key\n",
        "        self.base_url = \"https://api.groq.com/openai/v1/chat/completions\"\n",
        "\n",
        "    def chat(self, model, messages):\n",
        "        headers = {\n",
        "            \"Authorization\": f\"Bearer {self.api_key}\",\n",
        "            \"Content-Type\": \"application/json\",\n",
        "        }\n",
        "        payload = {\n",
        "            \"model\": model,\n",
        "            \"messages\": messages,\n",
        "        }\n",
        "        response = requests.post(self.base_url, headers=headers, json=payload)\n",
        "        if response.status_code == 200:\n",
        "            return response.json().get(\"choices\", [{}])[0].get(\"message\", {}).get(\"content\", \"Lo siento, no puedo procesar tu solicitud en este momento.\")\n",
        "        else:\n",
        "            return f\"Error: {response.status_code} - {response.text}\"\n"
      ],
      "metadata": {
        "id": "kMJxm6Y93OYl"
      },
      "execution_count": null,
      "outputs": []
    },
    {
      "cell_type": "markdown",
      "source": [
        "Funciones auxiliares\n",
        "Esta celda contiene funciones auxiliares para estructurar el programa."
      ],
      "metadata": {
        "id": "new_cell_id_1"
      }
    },
    {
      "cell_type": "code",
      "source": [
        "# Funciones auxiliares\n",
        "def obtener_api_key():\n",
        "    \"\"\"Solicita y valida la API Key del usuario.\"\"\"\n",
        "    api_key = input(\"Introduce tu API Key de Groq: \").strip()\n",
        "    if not api_key:\n",
        "        print(\"Por favor, introduce una API Key válida para continuar.\")\n",
        "        return None\n",
        "    return api_key\n",
        "\n",
        "def configurar_asistente():\n",
        "    \"\"\"Configura el nombre y el prompt inicial del asistente.\"\"\"\n",
        "    bot_name = input(\"Nombre del asistente virtual (default: SushiBot): \").strip() or \"SushiBot\"\n",
        "    prompt_default = f\"\"\"Eres un asistente virtual llamado {bot_name}, especializado en tomar pedidos de sushi y proporcionar información sobre el menú. Respondes de forma clara y amable, y haces preguntas relevantes para completar el pedido del cliente.\"\"\"\n",
        "    print(\"Configuración del asistente completada.\")\n",
        "    chat_history = [{\"role\": \"system\", \"content\": prompt_default}]\n",
        "    return bot_name, chat_history\n",
        "\n",
        "def obtener_mensaje_usuario():\n",
        "    \"\"\"Solicita el mensaje del usuario.\"\"\"\n",
        "    user_input = input(\"\\nCliente: \").strip()\n",
        "    return user_input\n",
        "\n",
        "def generar_respuesta(groq_client, chat_history):\n",
        "    \"\"\"Genera la respuesta del bot utilizando la API de Groq.\"\"\"\n",
        "    start_time = time.time()\n",
        "    response_content = groq_client.chat(model=\"llama3-8b-8192\", messages=chat_history)\n",
        "    end_time = time.time()\n",
        "    response_time = round(end_time - start_time, 2)\n",
        "    return response_content, response_time\n",
        "\n",
        "def mostrar_respuesta(bot_name, response_content, response_time):\n",
        "    \"\"\"Muestra la respuesta del bot y el tiempo de respuesta.\"\"\"\n",
        "    print(f\"\\n{bot_name}: {response_content}\")\n",
        "    print(f\"Tiempo de respuesta: {response_time} segundos.\")\n",
        "\n",
        "def mostrar_historial(chat_history, bot_name):\n",
        "    \"\"\"Muestra el historial completo de la conversación.\"\"\"\n",
        "    print(\"\\nHistorial de la conversación:\")\n",
        "    for msg in chat_history:\n",
        "        role = \"Cliente\" if msg[\"role\"] == \"user\" else (\"Sistema\" if msg[\"role\"] == \"system\" else bot_name)\n",
        "        print(f\"{role}: {msg['content']}\")\n"
      ],
      "metadata": {
        "id": "new_cell_id_2"
      },
      "execution_count": null,
      "outputs": []
    },
    {
      "cell_type": "markdown",
      "source": [
        "Función principal\n",
        "Esta celda contiene la lógica principal del asistente virtual."
      ],
      "metadata": {
        "id": "1WTeBLa73UY_"
      }
    },
    {
      "cell_type": "code",
      "source": [
        "# Función principal\n",
        "def main():\n",
        "    \"\"\"Función principal del programa.\"\"\"\n",
        "    print(\"Bienvenido al Asistente Virtual de Pedidos de Sushi 24/7\")\n",
        "\n",
        "    # Solicitar la API Key de Groq\n",
        "    api_key = obtener_api_key()\n",
        "    if not api_key:\n",
        "        return\n",
        "\n",
        "    groq_client = GroqAPI(api_key)\n",
        "\n",
        "    # Configuración del asistente\n",
        "    bot_name, chat_history = configurar_asistente()\n",
        "\n",
        "    # Iniciar conversación\n",
        "    continuar = True\n",
        "    while continuar:\n",
        "        # Obtener mensaje del usuario\n",
        "        user_input = obtener_mensaje_usuario()\n",
        "        if user_input.lower() in [\"salir\", \"exit\"]:\n",
        "            print(\"Gracias por usar el asistente. ¡Hasta luego!\")\n",
        "            break\n",
        "\n",
        "        # Agregar mensaje del cliente al historial\n",
        "        chat_history.append({\"role\": \"user\", \"content\": user_input})\n",
        "\n",
        "        # Generar respuesta del bot\n",
        "        response_content, response_time = generar_respuesta(groq_client, chat_history)\n",
        "\n",
        "        # Agregar respuesta del bot al historial\n",
        "        chat_history.append({\"role\": \"assistant\", \"content\": response_content})\n",
        "\n",
        "        # Mostrar respuesta\n",
        "        mostrar_respuesta(bot_name, response_content, response_time)\n",
        "\n",
        "        # Preguntar al usuario si desea continuar\n",
        "        continuar_input = input(\"\\n¿Hay algo más en lo que pueda ayudarte? (s/n): \").strip().lower()\n",
        "        if continuar_input != 's':\n",
        "            continuar = False\n",
        "            print(\"Gracias por usar el asistente. ¡Hasta luego!\")\n",
        "\n",
        "    # Mostrar historial al final si el usuario desea\n",
        "    mostrar = input(\"¿Deseas ver el historial completo de la conversación? (s/n): \").strip().lower()\n",
        "    if mostrar == \"s\":\n",
        "        mostrar_historial(chat_history, bot_name)\n"
      ],
      "metadata": {
        "id": "rD9IIQCi3XiI"
      },
      "execution_count": null,
      "outputs": []
    },
    {
      "cell_type": "markdown",
      "source": [
        "Ejecutar el programa\n",
        "Esta celda ejecuta la función principal."
      ],
      "metadata": {
        "id": "BmGJi0N03jey"
      }
    },
    {
      "cell_type": "code",
      "source": [
        "# Ejecutar el programa\n",
        "if __name__ == \"__main__\":\n",
        "    main()\n"
      ],
      "metadata": {
        "id": "dV5ponYx3nba"
      },
      "execution_count": null,
      "outputs": []
    }
  ]
}
